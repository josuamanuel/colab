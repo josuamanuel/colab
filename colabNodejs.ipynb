{
  "nbformat": 4,
  "nbformat_minor": 0,
  "metadata": {
    "colab": {
      "name": "colabNodejs.ipynb",
      "provenance": [],
      "collapsed_sections": [],
      "machine_shape": "hm",
      "include_colab_link": true
    },
    "accelerator": "GPU",
    "kernelspec": {
      "name": "javascript",
      "display_name": "Javascript"
    }
  },
  "cells": [
    {
      "cell_type": "markdown",
      "metadata": {
        "id": "view-in-github",
        "colab_type": "text"
      },
      "source": [
        "<a href=\"https://colab.research.google.com/github/josuamanuel/colab/blob/master/colabNodejs.ipynb\" target=\"_parent\"><img src=\"https://colab.research.google.com/assets/colab-badge.svg\" alt=\"Open In Colab\"/></a>"
      ]
    },
    {
      "cell_type": "markdown",
      "metadata": {
        "id": "bjNF3VjPjJHV",
        "colab_type": "text"
      },
      "source": [
        "Run cell (commands) below and then hit F5 (refresh the page) right after that"
      ]
    },
    {
      "cell_type": "code",
      "metadata": {
        "id": "ZVkF16NwcMsZ",
        "colab_type": "code",
        "colab": {
          "base_uri": "https://localhost:8080/",
          "height": 340
        },
        "outputId": "a9bd327b-60a0-4ce9-bfdf-e1674e00ed7f"
      },
      "source": [
        "!npm install -g --unsafe-perm ijavascript\n",
        "!ijsinstall --install=global\n",
        "!jupyter-kernelspec list"
      ],
      "execution_count": null,
      "outputs": [
        {
          "output_type": "stream",
          "text": [
            "\u001b[K\u001b[?25h/tools/node/bin/ijs -> /tools/node/lib/node_modules/ijavascript/bin/ijavascript.js\n",
            "/tools/node/bin/ijsconsole -> /tools/node/lib/node_modules/ijavascript/bin/ijsconsole.js\n",
            "/tools/node/bin/ijsinstall -> /tools/node/lib/node_modules/ijavascript/bin/ijsinstall.js\n",
            "/tools/node/bin/ijskernel -> /tools/node/lib/node_modules/ijavascript/lib/kernel.js\n",
            "/tools/node/bin/ijsnotebook -> /tools/node/lib/node_modules/ijavascript/bin/ijsnotebook.js\n",
            "\u001b[K\u001b[?25h\n",
            "> zeromq@5.2.0 install /tools/node/lib/node_modules/ijavascript/node_modules/zeromq\n",
            "> node scripts/prebuild-install.js || (node scripts/preinstall.js && node-gyp rebuild)\n",
            "\n",
            "\n",
            "\n",
            "+ ijavascript@5.2.0\n",
            "added 67 packages from 65 contributors in 4.405s\n",
            "Available kernels:\n",
            "  ir            /usr/local/share/jupyter/kernels/ir\n",
            "  javascript    /usr/local/share/jupyter/kernels/javascript\n",
            "  python2       /usr/local/share/jupyter/kernels/python2\n",
            "  python3       /usr/local/share/jupyter/kernels/python3\n",
            "  swift         /usr/local/share/jupyter/kernels/swift\n"
          ],
          "name": "stdout"
        }
      ]
    },
    {
      "cell_type": "markdown",
      "metadata": {
        "id": "r2UzIt5Gi6Em",
        "colab_type": "text"
      },
      "source": [
        "That's it! :) Now in the next cells you can write JavaScript"
      ]
    },
    {
      "cell_type": "markdown",
      "metadata": {
        "id": "MMyXtMptltc9",
        "colab_type": "text"
      },
      "source": [
        "# Example of usage"
      ]
    },
    {
      "cell_type": "markdown",
      "metadata": {
        "id": "qbVfsd0emCWY",
        "colab_type": "text"
      },
      "source": [
        "**Remember not to use `const` or `let`! Use `var` instead**\n",
        "\n",
        "This is how you can execute shell commands:"
      ]
    },
    {
      "cell_type": "code",
      "metadata": {
        "id": "skqAs_UHc8_P",
        "colab_type": "code",
        "colab": {
          "base_uri": "https://localhost:8080/",
          "height": 306
        },
        "outputId": "27d9962b-a145-4067-d7e0-5429ed350ab1"
      },
      "source": [
        "var { spawn } = require('child_process');\n",
        "var sh = (cmd) => { \n",
        "    $$.async();\n",
        "    var sp = spawn(cmd, { cwd: process.cwd(), stdio: 'pipe', shell: true, encoding: 'utf-8' });\n",
        "    sp.stdout.on('data', data => console.log(data.toString()));\n",
        "    sp.stderr.on('data', data => console.error(data.toString()));\n",
        "    sp.on('close', () => $$.done());\n",
        "};\n",
        "var run_async = async (pf) => {\n",
        "  $$.async();\n",
        "  await pf();\n",
        "  $$.done();\n",
        "};\n",
        "sh('npm init -y');"
      ],
      "execution_count": null,
      "outputs": [
        {
          "output_type": "stream",
          "text": [
            "Wrote to /content/package.json:\n",
            "\n",
            "{\n",
            "  \"name\": \"content\",\n",
            "  \"version\": \"1.0.0\",\n",
            "  \"description\": \"\",\n",
            "  \"main\": \"index.js\",\n",
            "  \"scripts\": {\n",
            "    \"test\": \"echo \\\"Error: no test specified\\\" && exit 1\"\n",
            "  },\n",
            "  \"keywords\": [],\n",
            "  \"author\": \"\",\n",
            "  \"license\": \"ISC\"\n",
            "}\n",
            "\n",
            "\n",
            "\n"
          ],
          "name": "stdout"
        }
      ]
    },
    {
      "cell_type": "code",
      "metadata": {
        "id": "1oqifUNtdID-",
        "colab_type": "code",
        "colab": {
          "base_uri": "https://localhost:8080/",
          "height": 85
        },
        "outputId": "dc465baf-7018-4b30-b92e-c048f3445f7b"
      },
      "source": [
        "sh('node -v; npm -v');"
      ],
      "execution_count": null,
      "outputs": [
        {
          "output_type": "stream",
          "text": [
            "v8.11.3\n",
            "\n",
            "5.7.1\n",
            "\n"
          ],
          "name": "stdout"
        }
      ]
    },
    {
      "cell_type": "code",
      "metadata": {
        "id": "RfuQeaYktMG5",
        "colab_type": "code",
        "colab": {
          "base_uri": "https://localhost:8080/",
          "height": 493
        },
        "outputId": "1849a655-73e6-4b19-e91a-b7855c1a8541"
      },
      "source": [
        "const http = require('http')\n",
        "const port = 80\n",
        "\n",
        "const requestHandler = (request, response) => {\n",
        "  console.log(request.url)\n",
        "  response.end('Hello Node.js Server!')\n",
        "}\n",
        "\n",
        "const server = http.createServer(requestHandler)\n",
        "\n",
        "server.listen(port, (err) => {\n",
        "  if (err) {\n",
        "    return console.log('something bad happened', err)\n",
        "  }\n",
        "\n",
        "  console.log(`server is listening on ${port}`)\n",
        "})"
      ],
      "execution_count": null,
      "outputs": [
        {
          "output_type": "execute_result",
          "data": {
            "text/plain": [
              "Server {\n",
              "  domain: null,\n",
              "  _events: \n",
              "   { request: [Function: requestHandler],\n",
              "     connection: [Function: connectionListener],\n",
              "     listening: { [Function: bound onceWrapper] listener: [Function] } },\n",
              "  _eventsCount: 3,\n",
              "  _maxListeners: undefined,\n",
              "  _connections: 0,\n",
              "  _handle: \n",
              "   TCP {\n",
              "     reading: false,\n",
              "     owner: [Circular],\n",
              "     onread: null,\n",
              "     onconnection: [Function: onconnection],\n",
              "     writeQueueSize: 0 },\n",
              "  _usingSlaves: false,\n",
              "  _slaves: [],\n",
              "  _unref: false,\n",
              "  allowHalfOpen: true,\n",
              "  pauseOnConnect: false,\n",
              "  httpAllowHalfOpen: false,\n",
              "  timeout: 120000,\n",
              "  keepAliveTimeout: 5000,\n",
              "  _pendingResponseData: 0,\n",
              "  maxHeadersCount: null,\n",
              "  _connectionKey: '6::::80',\n",
              "  [Symbol(asyncId)]: 79 }"
            ]
          },
          "metadata": {
            "tags": []
          },
          "execution_count": 7
        },
        {
          "output_type": "stream",
          "text": [
            "server is listening on 80\n"
          ],
          "name": "stdout"
        }
      ]
    },
    {
      "cell_type": "code",
      "metadata": {
        "id": "iNINLy5ptYFw",
        "colab_type": "code",
        "colab": {
          "base_uri": "https://localhost:8080/",
          "height": 1000
        },
        "outputId": "086ba45b-d740-4fc3-850e-17f29be630d6"
      },
      "source": [
        "sh('curl -X GET https://www.myip.com/');"
      ],
      "execution_count": null,
      "outputs": [
        {
          "output_type": "stream",
          "text": [
            "  % Total    % Received % Xferd  Average Speed   \n",
            "Time    Time     Time  Current\n",
            "                                 Dload  Upload   Total   Spent    Left  Speed\n",
            "  0     0    0     0    0     0      0      0 --:--:-- --:--:-- --:--:--     0\n"
          ],
          "name": "stderr"
        },
        {
          "output_type": "stream",
          "text": [
            "<!DOCTYPE html>\n",
            "<html lang=\"en\">\n",
            "<head>\n",
            "<title>Check your IP address | MyIP.com</title>\n",
            "<meta charset=\"utf-8\">\n",
            "<meta name=\"viewport\" content=\"width=device-width, initial-scale=1\">\n",
            "<link rel=\"stylesheet\" href=\"https://maxcdn.bootstrapcdn.com/bootstrap/3.3.7/css/bootstrap.min.css\">\n",
            "<script type=\"text/javascript\" src=\"https://www.gstatic.com/charts/loader.js\"></script>\n",
            "<script type=\"text/javascript\" src=\"/js/bowser.js\"></script>\n",
            "<script src=\"https://ajax.googleapis.com/ajax/libs/jquery/3.2.1/jquery.min.js\"></script>\n",
            "<script src=\"https://maxcdn.bootstrapcdn.com/bootstrap/3.3.7/js/bootstrap.min.js\"></script>\n",
            "<link rel=\"stylesheet\" href=\"/css.css\">\n",
            "<link rel=\"apple-touch-icon\" sizes=\"180x180\" href=\"/apple-touch-icon.png\">\n",
            "<link rel=\"icon\" type=\"image/png\" sizes=\"32x32\" href=\"/favicon-32x32.png\">\n",
            "<link rel=\"icon\" type=\"image/png\" sizes=\"16x16\" href=\"/favicon-16x16.png\">\n",
            "<link rel=\"manifest\" href=\"/manifest.json\">\n",
            "<link rel=\"mask-icon\" href=\"/safari-pinned-tab.svg\" color=\"#ff0000\">\n",
            "<meta name=\"theme-color\" content=\"#ffffff\">\n",
            "<script async src='/cdn-cgi/bm/cv/2172558837/api.js'></script></head>\n",
            "<body>\n",
            "<div class=\"container-fluid principal\">\n",
            "<div class=\"sidebar\">\n",
            "<a href=\"/\"><img class=\"logo\" alt=\"myip\" src=\"/img/myip.png\"></a>\n",
            "<div class=\"json\"><a href=\"/api-docs/\"><img alt=\"json\" src=\"/img/widgets.png\">JSON API</a></div>\n",
            "<div class=\"boton\">\n",
            "<button type=\"button\" class=\"btn\" data-toggle=\"modal\" data-target=\"#myModal\">Contact</button>\n",
            "</div>\n",
            "</div>\n",
            "<div class=\"container-fluid contenido\">\n",
            "<div class=\"ads_1\">\n",
            "<script async src=\"//pagead2.googlesyndication.com/pagead/js/adsbygoogle.js\"></script>\n",
            "\n",
            "<ins class=\"adsbygoogle\" style=\"display:block\" data-ad-client=\"ca-pub-4185349146732778\" data-ad-slot=\"9671241353\" data-ad-format=\"auto\"></ins>\n",
            "<script>\r\n",
            "            (adsbygoogle = window.adsbygoogle || []).push({});\r\n",
            "            </script>\n",
            "</div>\n",
            "<div class=\"row display-flex\">\n",
            "<div class=\"col-xs-12 col-lg-8\">\n",
            "<div class=\"panel panel-default mi_panel\">\n",
            "<div class=\"panel-body datos\">\n",
            "<ul class=\"list-group\">\n",
            "<li class=\"list-group-item\">\n",
            "<div class=\"encabezado\">Your IP address is:</div>\n",
            "<div class=\"texto_1\">\n",
            "<img class=\"icono\" alt=\"ip\" src=\"/img/globe_network.png\"><span id=\"ip\">35.199.145.180</span>\n",
            "<button type=\"button\" class=\"btn-info\" data-toggle=\"tooltip\" title=\"Copy IP to clipboard\" id=\"copiar\">copy</button>\n",
            "</div>\n",
            "</li>\n",
            "<li class=\"list-group-item\">\n",
            "<div class=\"encabezado\">Host:</div>\n",
            "<div class=\"texto_1\"><img class=\"icono\" alt=\"host\" src=\"/img/terminal.png\">108.162.245.28</div>\n",
            "</li>\n",
            "<li class=\"list-group-item\">\n",
            "<div class=\"encabezado\">Remote Port:</div>\n",
            "<div class=\"texto_1\"><img class=\"icono\" alt=\"port\" src=\"/img/connect.png\">49216</div>\n",
            "</li>\n",
            "<li class=\"list-group-item\">\n",
            "<div class=\"encabezado\">ISP:</div>\n",
            "<div class=\"texto_1\" id=\"ajax\">\n",
            "<img class=\"icono\" alt=\"isp\" src=\"/img/building.png\">\n",
            "Google Inc. </div>\n",
            "</li>\n",
            "</ul>\n",
            "</div>\n",
            "</div>\n",
            "</div>\n",
            "<div class=\"col-xs-12 col-lg-4\">\n",
            "<div class=\"panel panel-default mi_panel\">\n",
            "<div class=\"panel-body\">\n",
            "<div class=\"info\">\n",
            "<div class=\"info_1\">Country: </div><div class=\"info_2\">United States</div>\n",
            "</div>\n",
            "<div id=\"regions_div\"></div>\n",
            "</div>\n",
            "</div>\n",
            "</div>\n",
            "</div>\n",
            "<div class=\"row\">\n",
            "<div class=\"col-sm-12\">\n",
            "<div class=\"panel panel-default bloque_1\">\n",
            "<div class=\"panel-body\">\n",
            "<img alt=\"web\" src=\"/img/domain_names_advanced.png\">\n",
            "The internet is a big network of connected devices, every device has a unique address where others can send information when they want to communicate.\n",
            "This unique identifier is your IP address and it is automatically assigned to you by your Internet Service Provider (ISP).\n",
            "</div>\n",
            "</div>\n",
            "</div>\n",
            "</div>\n",
            "<div class=\"row\">\n",
            "<div class=\"col-lg-4\">\n",
            "<div class=\"panel panel-default\">\n",
            "<div class=\"panel-body\">\n",
            "<div class=\"info\">\n",
            "<div class=\"info_1\">Your Browser: </div><div class=\"info_2\"><script>document.write(bowser.name + ' ' + bowser.version);</script></div>\n",
            "</div>\n",
            "<div class=\"fila\" id=\"donutchart\"></div>\n",
            "</div>\n",
            "</div>\n",
            "</div>\n",
            "<div class=\"col-lg-4\">\n",
            "<div class=\"panel panel-default\">\n",
            "<div class=\"panel-body\">\n",
            "<div class=\"info\">\n",
            "<div class=\"info_1\">Operating System: </div><div class=\"info_2\"><script>document.write(bowser.os + ' ' + bowser.osversion);</script></div>\n",
            "</div>\n",
            "<div class=\"fila\" id=\"top_x_div\"></div>\n",
            "</div>\n",
            "</div>\n",
            "</div>\n",
            "<div class=\"col-lg-4\">\n",
            "<div class=\"panel panel-default\">\n",
            "<div class=\"panel-body\">\n",
            "<div class=\"info\">\n",
            "<div class=\"info_1\">Device: </div><div class=\"info_2\"><script>document.write(bowser.mobi);</script></div>\n",
            "</div>\n",
            "<div class=\"fila\" id=\"piechart\"></div>\n",
            "</div>\n",
            "</div>\n",
            "</div>\n",
            "</div>\n",
            "<div class=\"row display-flex\">\n",
            "<div class=\"col-xs-12 col-md-6\">\n",
            "<div class=\"panel panel-default mi_panel\">\n",
            "<div class=\"panel-body\">\n",
            "<div class=\"encabezado\">\n",
            "Screen:\n",
            "</div>\n",
            "<div class=\"texto_3\">\n",
            "<img class=\"icono_1\" alt=\"screen\" src=\"/img/widescreen.png\">Width/height:\n",
            "<script>document.write(screen.width + ' x ' + screen.height);</script>\n",
            "</div>\n",
            "<div class=\"encabezado_1\">\n",
            "Window:\n",
            "</div>\n",
            "<div class=\"texto_3\">\n",
            "<img class=\"icono_1\" alt=\"window\" src=\"/img/application_xp.png\">Width/height:\n",
            "<script>document.write($(window).width() + ' x ' + $(window).height());</script>\n",
            "</div>\n",
            "<div class=\"encabezado_1\">\n",
            "Browser Language:\n",
            "</div>\n",
            "<div class=\"texto_3\">\n",
            "<img class=\"icono_1\" alt=\"screen\" src=\"/img/comment.png\">Preferred language: Unknown </div>\n",
            "<div class=\"encabezado_1\">\n",
            "Referrer:\n",
            "</div>\n",
            "<div class=\"texto_3\" id=\"ref\">\n",
            "<img class=\"icono_1\" alt=\"referrer\" src=\"/img/link_go.png\">URL:\n",
            "<script>$(document).ready(function(){$(\"#ref\").append(ref())});</script>\n",
            "</div>\n",
            "</div>\n",
            "</div>\n",
            "</div>\n",
            "<div class=\"col-xs-12 col-md-6\">\n",
            "<div class=\"panel panel-default mi_panel\">\n",
            "<div class=\"panel-body\">\n",
            "<div class=\"encabezado\">\n",
            "<img class=\"icono_1\" alt=\"header\" src=\"/img/document_info.png\">Headers:\n",
            "</div>\n",
            "<div class=\"headers\"><span class=\"it\">Accept-Encoding:</span> gzip</div><div class=\"headers\"><span class=\"it\">user-agent:</span> curl/7.58.0</div><div class=\"headers\"><span class=\"it\">accept:</span> */*</div> </div>\n",
            "</div>\n",
            "</div>\n",
            "</div>\n",
            "<div class=\"row\">\n",
            "<div class=\"col-sm-12\">\n",
            "<div class=\"panel panel-default bloque_2\">\n",
            "<div class=\"panel-body\">\n",
            "<img alt=\"stats\" src=\"/img/combined_chart.png\">\n",
            "Currently most of internet traffic is served over IPv4, consisting in four series of numbers ranging from 0 to 255. There are \"only\" 4 billion IPv4 adresses, to avoid running out of available addresses IPv6 was developed,\n",
            "expanding the number to 340 trillion trillion trillion (2<sup>128</sup>).\n",
            "</div>\n",
            "</div>\n",
            "</div>\n",
            "</div>\n",
            "<div class=\"row\">\n",
            "<div class=\"col-sm-12\">\n",
            "<div class=\"panel panel-default bloque_2\">\n",
            "<div class=\"panel-body\">\n",
            "<h4>IPv6 Adoption</h4>\n",
            "<div id=\"legend_div\"></div>\n",
            "<div id=\"chart_div\"></div>\n",
            "<script src=\"//www.google.com/jsapi\"></script>\n",
            "<script src=\"//www.google.com/intl/en_ALL/ipv6/statistics/data/adoption.js\"></script>\n",
            "<script src=\"//www.gstatic.com/external_hosted/dygraphs/dygraph-combined.js\"></script>\n",
            "<script src=\"https://www.google.com/intl/en/ipv6/js/statistics.js\"></script>\n",
            "</div>\n",
            "</div>\n",
            "</div>\n",
            "</div>\n",
            "<div class=\"pie\">\n",
            "MyIP.com 2020.\n",
            "</div>\n",
            "</div>\n",
            "</div>\n",
            "<script type=\"text/javascript\" src=\"/js/graf.js\"></script>\n",
            "<script type=\"text/javascript\">\r\n",
            "    pais('United States', 'US');\r\n",
            "    nav();\r\n",
            "    os();\r\n",
            "    dev();\r\n",
            "    copy();\r\n",
            "</script>\n",
            "\n",
            "<div id=\"myModal\" class=\"modal fade\" role=\"dialog\">\n",
            "<div class=\"modal-dialog\">\n",
            "<div class=\"modal-content\">\n",
            "<div class=\"modal-header\">\n",
            "<button type=\"button\" class=\"close\" data-dismiss=\"modal\">&times;</button>\n",
            "<h4 class=\"modal-title text-center\">Contact</h4>\n",
            "</div>\n",
            "<div class=\"modal-body text-center\">\n",
            "<p>For inquiries or feedback please get in touch at:<br><img src=\"/img/contact.png\" alt=\"contact\" class=\"contact\"></p>\n",
            "</div>\n",
            "<div class=\"modal-footer\">\n",
            "<button type=\"button\" class=\"btn btn-default\" data-dismiss=\"modal\">OK</button>\n",
            "</div>\n",
            "</div>\n",
            "</div>\n",
            "</div>\n",
            "\n",
            "\n",
            "<script type=\"text/javascript\">\r\n",
            "var sc_project=11414134; \r\n",
            "var sc_invisible=1; \r\n",
            "var sc_security=\"8abb4a32\"; \r\n",
            "var scJsHost = ((\"https:\" == document.location.protocol) ?\r\n",
            "\"https://secure.\" : \"http://www.\");\r\n",
            "document.write(\"<sc\"+\"ript type='text/javascript' src='\" +\r\n",
            "scJsHost+\r\n",
            "\"statcounter.com/counter/counter.js'></\"+\"script>\");\r\n",
            "</script>\n",
            "<noscript><div class=\"statcounter\"><a title=\"web analytics\"\r\n",
            "href=\"http://statcounter.com/\" target=\"_blank\"><img\r\n",
            "cl\n",
            "ass=\"statcounter\"\n",
            "src=\"//c.statcounter.com/11414134/0/8abb4a32/1/\" alt=\"web\n",
            "analytics\"></a></div></noscript>\n",
            "\n",
            "<script type=\"text/javascript\">(function(){window['__CF$cv$params']={r:'5b08bd1ecee20921',m:'2ff3b7b6cf0971984b91933a5b47114dd5ee3676-1594367897-1800-ASZg43N00RaavlaZhxiEx87XkGbUJGxqOqnhfSHBrYbU1lJiupRv7MVdkETdeSV5xXjMQHycWSFc0/PLBZuFo293ihGMYaRuALcAYDOGYrVVe86zWgaF99DGnCBK1fvAMw==',s:[0x9f32b095f1,0x2df056895d],}})();</script></body>\n",
            "</html>\n"
          ],
          "name": "stdout"
        },
        {
          "output_type": "stream",
          "text": [
            "\r100  8648    0  8648    0     0  19048      0 --:--:-- --:--:-- --:--:-- 19048\n",
            "\n"
          ],
          "name": "stderr"
        }
      ]
    },
    {
      "cell_type": "code",
      "metadata": {
        "id": "9fKNb63FvNxa",
        "colab_type": "code",
        "colab": {
          "base_uri": "https://localhost:8080/",
          "height": 680
        },
        "outputId": "194f773a-8c74-4b67-a13f-76684cfe285c"
      },
      "source": [
        "sh('curl -X GET http://35.199.145.180')"
      ],
      "execution_count": null,
      "outputs": [
        {
          "output_type": "stream",
          "text": [
            "  % Total    % Received % Xferd  Average Speed   Time    Time     Time  Current\n",
            "           \n",
            "                      Dload  Upload   Total   Spent    Left  Speed\n",
            "  0     0    0     0    0     0      0      0 --:--:-- --:--:-- --:--:--     0\n",
            "  0     0    0     0    0     0      0      0 --:--:--  0:00:01 --:--:--     0\n",
            "  0     0    0     0    0     0      0      0 --:--:--  0:00:02 --:--:--     0\n",
            "  0     0    0     0    0     0      0      0 --:--:--  0:00:03 --:--:--     0\n",
            "  0     0    0     0    0     0      0      0 --:--:--  0:00:04 --:--:--     0\n",
            "  0     0    0     0    0     0      0      0 --:--:--  0:00:05 --:--:--     0\n",
            "  0     0    0     0    0     0      0      0 --:--:--  0:00:06 --:--:--     0\n",
            "  0     0    0     0    0     0      0      0 --:--:--  0:00:07 --:--:--     0\n",
            "  0     0    0     0    0     0      0      0 --:--:--  0:00:08 --:--:--     0\n",
            "  0     0    0     0    0     0      0      0 --:--:--  0:00:09 --:--:--     0\n",
            "  0     0    0     0    0     0      0      0 --:--:--\n",
            "  0:00:10 --:--:--     0\n",
            "  0     0    0     0    0     0      0      0 --:--:--  0:00:11 --:--:--     0\n",
            "  0     0    0     0    0     0      0      0 --:--:--  0:00:12 --:--:--     0\n",
            "  0     0    0     0    0     0      0      0 --:--:--  0:00:13 --:--:--     0\n",
            "  0     0    0     0    0     0      0      0 --:--:--  0:00:14 --:--:--     0\n",
            "  0     0    0     0    0     0      0      0 --:--:--  0:00:15 --:--:--     0\n",
            "  0     0    0     0    0     0      0      0 --:--:--  0:00:16 --:--:--     0\n",
            "  0     0    0     0    0     0      0      0 --:--:--  0:00:17 --:--:--     0\n",
            "  0     0    0     0    0     0      0      0 --:--:--  0:00:18 --:--:--     0\n",
            "  0     0    0     0    0     0      0      0 --:--:--  0:00:19 --:--:--     0\n",
            "  0     0    0     0    0     0      0      0 --:--:--  0:00:20 --:--:--     0\n",
            "  0     0    0     0    0     0      0      0 --:--:--  0:00:21 --:--:--     0\n",
            "  0     0    0     0    0     0      0      0 --:--:--  0:00:22 --:--:--     0\n",
            "  0     0    0     0    0     0      0      0 --:--:--  0:00:23 --:--:--     0\n",
            "  0     0    0     0    0     0      0      0 --:--:--  0:00:24 --:--:--     0\n",
            "  0     0    0     0    0     0      0      0 --:--:--  0:00:25 --:--:--     0\n",
            "  0     0    0     0    0     0      0      0 --:--:--  0:00:26 --:--:--     0\n",
            "  0     0    0     0    0     0      0      0 --:--:--  0:00:27 --:--:--     0\n",
            "  0     0    0     0    0     0      0      0 --:--:--  0:00:28 --:--:--     0\n",
            "  0     0    0     0    0     0      0      0 --:--:--  0:00:29 --:--:--     0\n",
            "  0     0    0     0    0     0      0      0 --:--:--  0:00:30 --:--:--     0\n",
            "  0     0    0     0    0     0      0      0 --:--:--  0\n",
            ":00:31 --:--:--     0\n",
            "curl: (7) Failed to connect to 35.199.145.180 port 80: Connection timed out\n",
            "\n"
          ],
          "name": "stderr"
        }
      ]
    },
    {
      "cell_type": "code",
      "metadata": {
        "id": "rCykrspsvqRp",
        "colab_type": "code",
        "colab": {
          "base_uri": "https://localhost:8080/",
          "height": 153
        },
        "outputId": "bfebcd38-2e50-45f4-e771-ebfc13182695"
      },
      "source": [
        "sh('curl -X GET http://localhost')"
      ],
      "execution_count": null,
      "outputs": [
        {
          "output_type": "stream",
          "text": [
            "  % Total    % Received % Xferd \n",
            " Average Speed   Time    Time     Time  Current\n",
            "                                 Dload  Upload   Total   Spent    Left  Speed\n",
            "  0     0    0     0    0     0      0      0 --:--:-- --:--:-- --:--:--     0\n"
          ],
          "name": "stderr"
        },
        {
          "output_type": "stream",
          "text": [
            "/\n"
          ],
          "name": "stdout"
        },
        {
          "output_type": "stream",
          "text": [
            "\r100    21  100    21    0     0   2625      0 --:--:-- --:--:-- --:--:--  2625\n",
            "\n"
          ],
          "name": "stderr"
        },
        {
          "output_type": "stream",
          "text": [
            "Hello Node.js Server!\n"
          ],
          "name": "stdout"
        }
      ]
    }
  ]
}