{
  "nbformat": 4,
  "nbformat_minor": 0,
  "metadata": {
    "colab": {
      "name": "TensorflowJS Template.ipynb",
      "provenance": [],
      "collapsed_sections": [],
      "machine_shape": "hm",
      "include_colab_link": true
    },
    "accelerator": "GPU",
    "kernelspec": {
      "name": "javascript",
      "display_name": "Javascript"
    }
  },
  "cells": [
    {
      "cell_type": "markdown",
      "metadata": {
        "id": "view-in-github",
        "colab_type": "text"
      },
      "source": [
        "<a href=\"https://colab.research.google.com/github/josuamanuel/colab/blob/master/TensorflowJS_Template.ipynb\" target=\"_parent\"><img src=\"https://colab.research.google.com/assets/colab-badge.svg\" alt=\"Open In Colab\"/></a>"
      ]
    },
    {
      "cell_type": "markdown",
      "metadata": {
        "id": "bjNF3VjPjJHV",
        "colab_type": "text"
      },
      "source": [
        "Run cell (commands) below and then hit F5 (refresh the page) right after that"
      ]
    },
    {
      "cell_type": "code",
      "metadata": {
        "id": "ZVkF16NwcMsZ",
        "colab_type": "code",
        "colab": {}
      },
      "source": [
        "!npm install -g --unsafe-perm ijavascript\n",
        "!ijsinstall --install=global\n",
        "!jupyter-kernelspec list"
      ],
      "execution_count": null,
      "outputs": []
    },
    {
      "cell_type": "markdown",
      "metadata": {
        "id": "r2UzIt5Gi6Em",
        "colab_type": "text"
      },
      "source": [
        "That's it! :) Now in the next cells you can write JavaScript"
      ]
    },
    {
      "cell_type": "markdown",
      "metadata": {
        "id": "MMyXtMptltc9",
        "colab_type": "text"
      },
      "source": [
        "# Example of usage"
      ]
    },
    {
      "cell_type": "markdown",
      "metadata": {
        "id": "qbVfsd0emCWY",
        "colab_type": "text"
      },
      "source": [
        "**Remember not to use `const` or `let`! Use `var` instead**\n",
        "\n",
        "This is how you can execute shell commands:"
      ]
    },
    {
      "cell_type": "code",
      "metadata": {
        "id": "skqAs_UHc8_P",
        "colab_type": "code",
        "colab": {}
      },
      "source": [
        "var { spawn } = require('child_process');\n",
        "var sh = (cmd) => { \n",
        "    $$.async();\n",
        "    var sp = spawn(cmd, { cwd: process.cwd(), stdio: 'pipe', shell: true, encoding: 'utf-8' });\n",
        "    sp.stdout.on('data', data => console.log(data.toString()));\n",
        "    sp.stderr.on('data', data => console.error(data.toString()));\n",
        "    sp.on('close', () => $$.done());\n",
        "};\n",
        "var run_async = async (pf) => {\n",
        "  $$.async();\n",
        "  await pf();\n",
        "  $$.done();\n",
        "};\n",
        "sh('npm init -y');"
      ],
      "execution_count": null,
      "outputs": []
    },
    {
      "cell_type": "code",
      "metadata": {
        "id": "1oqifUNtdID-",
        "colab_type": "code",
        "colab": {}
      },
      "source": [
        "sh('node -v; npm -v');"
      ],
      "execution_count": null,
      "outputs": []
    },
    {
      "cell_type": "code",
      "metadata": {
        "id": "28tLRTVq8xms",
        "colab_type": "code",
        "colab": {}
      },
      "source": [
        "sh('npm install @tensorflow/tfjs-node-gpu')"
      ],
      "execution_count": null,
      "outputs": []
    },
    {
      "cell_type": "code",
      "metadata": {
        "id": "psJPTwp79NXv",
        "colab_type": "code",
        "colab": {}
      },
      "source": [
        "var tf = require('@tensorflow/tfjs-node-gpu');\n",
        "tf.backend().isUsingGpuDevice;"
      ],
      "execution_count": null,
      "outputs": []
    }
  ]
}